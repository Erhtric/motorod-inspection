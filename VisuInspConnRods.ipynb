{
 "cells": [
  {
   "attachments": {},
   "cell_type": "markdown",
   "metadata": {},
   "source": [
    "# Visual Inspection of Motorcycle Connecting Rods\n",
    "\n",
    "Students should develop a software system aimed at visual inspection of motorcycle connecting rods. The system should be able to analyse the dimensions of two different types of connecting rods to allow a vision-guided robot to pick and sort rods based on their type and dimensions. The two rod types are characterized by a different number of holes: Type A rods have one hole whilst Type B rods have two holes."
   ]
  },
  {
   "attachments": {},
   "cell_type": "markdown",
   "metadata": {},
   "source": [
    "## Libraries and Data loading"
   ]
  },
  {
   "cell_type": "code",
   "execution_count": 1,
   "metadata": {},
   "outputs": [
    {
     "data": {
      "text/plain": [
       "<Figure size 1500x1000 with 6 Axes>"
      ]
     },
     "metadata": {},
     "output_type": "display_data"
    }
   ],
   "source": [
    "%load_ext autoreload\n",
    "%autoreload 2\n",
    "import numpy as np\n",
    "import cv2\n",
    "import matplotlib.pyplot as plt\n",
    "from pathlib import Path\n",
    "\n",
    "import sys\n",
    "\n",
    "sys.path.append(\".\")\n",
    "\n",
    "data_folder = Path(\"ispezione-bielle-immagini\")\n",
    "task1_names = [\n",
    "    \"TESI00.BMP\",\n",
    "    \"TESI01.BMP\",\n",
    "    \"TESI12.BMP\",\n",
    "    \"TESI21.BMP\",\n",
    "    \"TESI31.BMP\",\n",
    "    \"TESI33.BMP\",\n",
    "]\n",
    "\n",
    "task2_names = [\n",
    "    \"TESI44.BMP\",\n",
    "    \"TESI47.BMP\",\n",
    "    \"TESI48.BMP\",\n",
    "    \"TESI49.BMP\",\n",
    "    \"TESI50.BMP\",\n",
    "    \"TESI51.BMP\",\n",
    "    \"TESI90.BMP\",\n",
    "    \"TESI92.BMP\",\n",
    "    \"TESI98.BMP\",\n",
    "]\n",
    "\n",
    "paths_1 = []\n",
    "paths_2 = []\n",
    "for _path in data_folder.rglob(\"*.BMP\"):\n",
    "    if _path.name.upper() in task1_names:\n",
    "        paths_1.append(_path)\n",
    "    elif _path.name.upper() in task2_names:\n",
    "        paths_2.append(_path)\n",
    "\n",
    "# Load the images\n",
    "images_1 = [cv2.imread(str(_path), cv2.IMREAD_GRAYSCALE) for _path in paths_1]\n",
    "images_2 = [cv2.imread(str(_path), cv2.IMREAD_GRAYSCALE) for _path in paths_2]\n",
    "\n",
    "# Print the images in a grid\n",
    "fig, axs = plt.subplots(2, 3, figsize=(15, 10))\n",
    "for i, (img, path) in enumerate(zip(images_1, paths_1)):\n",
    "    axs[i // 3, i % 3].imshow(img, cmap=\"gray\")\n",
    "    axs[i // 3, i % 3].set_title(path.name)\n",
    "    axs[i // 3, i % 3].axis(\"off\")\n",
    "plt.show()"
   ]
  },
  {
   "attachments": {},
   "cell_type": "markdown",
   "metadata": {},
   "source": [
    "## First task\n",
    "\n",
    "**Image characteristics**\n",
    "1. Images contain only connecting rods, which can be of both types and feature significantly diverse dimensions.\n",
    "2. Connecting rods have been carefully placed within the inspection area so to appear well separated in images (i.e. they do not have any contact point).\n",
    "3. Images have been taken by the backlighting technique so to render rods easily distinguishable (i.e. much darker) from background. However, for flexibility reasons the system should not\n",
    "require any change to work properly with lighting sources of different power.\n",
    "\n",
    "**Functional specifications**\n",
    "For each connecting rod appearing in the image, the vision system should provide the following information:\n",
    "1. Type of rod (A or B).\n",
    "2. Position and orientation (modulo $\\pi$).\n",
    "3. Length, width and width at the barycenter.\n",
    "4. For each hole, position of the centre and diameter size.\n",
    "\n",
    "***"
   ]
  },
  {
   "attachments": {},
   "cell_type": "markdown",
   "metadata": {},
   "source": [
    "### Rod-type Detection\n",
    "\n",
    "**Objectives**: detect the rods, detect the holes in each rod\n",
    "\n",
    "The algorithm first preprocesses the image by applying a Gaussian filter (given $\\sigma$, we set the kernel size to be equal to $\\lceil (3 \\sigma)^2 + 1 \\rceil$.) and thresholding the image to create a binary image (we exploit the OpenCV method `cv2.threshold(img, thresh, maxval, type=cv2.THRESH_BINARY_INV | cv2.THRESH_OTSU)`). It then uses the `cv2.connectedComponentsWithStats()` function to find the connected components in the binary image. Each connected component corresponds to a rod in the image.\n",
    "\n",
    "For each rod, the algorithm extracts the connected component and calculates its area, centroid, and number of holes. It then classifies the rod as either \"Type A\" (one hole) or \"Type B\" (two holes) based on the number of holes. Finally, it plots the connected component and displays the rod type.\n",
    "\n",
    "The algorithm uses the OpenCV library to perform the image processing and blob detection. Blob detection is a technique for detecting regions in an image that share common properties, such as color or texture. In this case, the algorithm uses blob detection to detect the rods in the image. The algorithm then analyzes each rod to count the number of holes and classify the rod type. \n",
    "\n",
    "The algorithm is useful for applications such as quality control in manufacturing, where it is important to detect defects in products. By detecting the number of holes in each rod, the algorithm can identify defective rods that do not meet the required specifications.\n",
    "\n"
   ]
  },
  {
   "cell_type": "code",
   "execution_count": 70,
   "metadata": {},
   "outputs": [
    {
     "name": "stdout",
     "output_type": "stream",
     "text": [
      "Gaussian filter parameters --- sigma: 1.0, kernel size: 7\n",
      "Number of rods found (CC): 3\n",
      "Processing connected components individually...\n",
      "\n",
      "Processing rod 1...\n",
      "Rod 1: area (CC): 3227\n",
      "Rod 1: number of holes: 1\n",
      "Rod 1: type: A\n",
      "Rod 1: length (of the Major Axis): 169.35345458984375\n",
      "Rod 1: width (of the Minor Axis): 39.77633285522461\n",
      "Rod 1: angle: 159.59979057312012\n",
      "Rod 1: moments: [{'m30': 27963669624.5, 'm12': 11072482553.75, 'm21': 16863151708.949999, 'm10': 683382.3333333333, 'm00': 3437.0, 'm03': 7719748869.35, 'mu02': 7661913.838901825, 'mu30': 7484576.961730957, 'nu21': 0.03601659374806497, 'm11': 80578457.91666666, 'm02': 51714517.0, 'nu03': 0.18791751390981917, 'm01': 389112.8333333333, 'nu12': 0.0910197243846772, 'mu12': 63035375.81607723, 'nu02': 0.6486018746770457, 'nu30': 0.010807330381917139, 'mu03': 130141584.05562592, 'nu11': 0.2717981446344633, 'mu20': 1575026.7321469188, 'nu20': 0.1333303026653942, 'mu11': 3210743.056824431, 'mu21': 24943159.714801908, 'm20': 137452656.5}]\n",
      "Rod 1: mass center(s): [(198.83105363544448, 113.21292761163923)]\n"
     ]
    },
    {
     "data": {
      "image/png": "[encoded data removed]",
      "text/plain": [
       "<Figure size 360x360 with 1 Axes>"
      ]
     },
     "metadata": {
      "needs_background": "light"
     },
     "output_type": "display_data"
    },
    {
     "name": "stdout",
     "output_type": "stream",
     "text": [
      "--------------------------------------------------\n",
      "Processing rod 2...\n",
      "Rod 2: area (CC): 1477\n",
      "Rod 2: number of holes: 2\n",
      "Rod 2: type: B\n",
      "Rod 2: length (of the Major Axis): 130.91468811035156\n",
      "Rod 2: width (of the Minor Axis): 26.889116287231445\n",
      "Rod 2: angle: 95.19442749023438\n",
      "Rod 2: moments: [{'m30': 3286894810.6000004, 'm12': 3565960767.95, 'm21': 3186207519.95, 'm10': 245747.0, 'm00': 2136.5, 'm03': 4398693257.1, 'mu02': 3313835.5823972225, 'mu30': -164318.25008678436, 'nu21': 0.0011318772271705145, 'm11': 27965419.541666664, 'm02': 31719783.583333332, 'nu03': -0.10906548126992319, 'm01': 246352.0, 'nu12': 0.014003564449288042, 'mu12': 2954580.569397807, 'nu02': 0.7259808459700609, 'nu30': -0.0007788046902892569, 'mu03': -23011480.60689068, 'nu11': -0.08122628548437365, 'mu20': 103588.93648100644, 'nu20': 0.022693818649028395, 'mu11': -370768.12226967886, 'mu21': 238812.23058975488, 'm20': 28370187.583333332}]\n",
      "Rod 2: mass center(s): [(115.02316819553863, 115.30634160867614)]\n"
     ]
    },
    {
     "data": {
      "image/png": "[encoded data removed]",
      "text/plain": [
       "<Figure size 360x360 with 1 Axes>"
      ]
     },
     "metadata": {
      "needs_background": "light"
     },
     "output_type": "display_data"
    },
    {
     "name": "stdout",
     "output_type": "stream",
     "text": [
      "--------------------------------------------------\n",
      "Processing rod 3...\n",
      "Rod 3: area (CC): 3267\n",
      "Rod 3: number of holes: 1\n",
      "Rod 3: type: A\n",
      "Rod 3: length (of the Major Axis): 177.30593872070312\n",
      "Rod 3: width (of the Minor Axis): 37.25206756591797\n",
      "Rod 3: angle: 91.24536895751953\n",
      "Rod 3: moments: [{'m30': 591966865.85, 'm12': 4487459982.45, 'm21': 1475257659.35, 'm10': 188201.16666666666, 'm00': 3462.0, 'm03': 15549472860.300001, 'mu02': 10186749.644874528, 'mu30': -884545.4692710638, 'nu21': 0.004729412759502772, 'm11': 27162661.833333332, 'm02': 86059942.0, 'nu03': -0.29351703564016435, 'm01': 512516.3333333333, 'nu12': 0.022624389001164234, 'mu12': 15954915.860120535, 'nu02': 0.8499267649053741, 'nu30': -0.001254303122715103, 'mu03': -206990765.8902893, 'nu11': -0.05829901928249505, 'mu20': 224879.54832627438, 'nu20': 0.01876272154175301, 'mu11': -698739.6308652647, 'mu21': 3335223.003890369, 'm20': 10455867.166666666}]\n",
      "Rod 3: mass center(s): [(54.36197750521285, 148.0405349084136)]\n"
     ]
    },
    {
     "data": {
      "image/png": "[encoded data removed]",
      "text/plain": [
       "<Figure size 360x360 with 1 Axes>"
      ]
     },
     "metadata": {
      "needs_background": "light"
     },
     "output_type": "display_data"
    },
    {
     "name": "stdout",
     "output_type": "stream",
     "text": [
      "--------------------------------------------------\n"
     ]
    }
   ],
   "source": [
    "from src.rod_detection import detect_rods_blob, detect_rods\n",
    "\n",
    "# Detects the rods for a single image, it outputs the various steps\n",
    "rod_info = detect_rods_blob(images_1[0])\n",
    "# print(rod_info)"
   ]
  },
  {
   "cell_type": "code",
   "execution_count": 48,
   "metadata": {},
   "outputs": [
    {
     "data": {
      "text/plain": [
       "[[(198.83105363544448, 113.21292761163923)]]"
      ]
     },
     "execution_count": 48,
     "metadata": {},
     "output_type": "execute_result"
    }
   ],
   "source": [
    "rod_info[\"barycenter\"]"
   ]
  },
  {
   "cell_type": "code",
   "execution_count": 63,
   "metadata": {},
   "outputs": [
    {
     "data": {
      "text/plain": [
       "[159.59979057312012]"
      ]
     },
     "execution_count": 63,
     "metadata": {},
     "output_type": "execute_result"
    }
   ],
   "source": [
    "rod_info[\"angle\"]"
   ]
  },
  {
   "cell_type": "code",
   "execution_count": 5,
   "metadata": {},
   "outputs": [
    {
     "name": "stdout",
     "output_type": "stream",
     "text": [
      "Processing image: TESI00.BMP\n",
      "Gaussian filter parameters --- sigma: 1.0, kernel size: 7\n",
      "Number of rods found: 3\n",
      "Processing connected components individually...\n",
      "Rod 1: centroid: [201.38859622 118.94546018]\n",
      "Rod 1: area: 3227\n",
      "Rod 1: number of holes: 1\n",
      "Rod 1: type: A\n",
      "--------------------------------------------------\n",
      "Rod 2: centroid: [115.2802979  113.68178741]\n",
      "Rod 2: area: 1477\n",
      "Rod 2: number of holes: 2\n",
      "Rod 2: type: B\n",
      "--------------------------------------------------\n",
      "Rod 3: centroid: [ 54.8050199 141.3308846]\n",
      "Rod 3: area: 3267\n",
      "Rod 3: number of holes: 1\n",
      "Rod 3: type: A\n",
      "--------------------------------------------------\n",
      "Processing image: TESI01.BMP\n",
      "Gaussian filter parameters --- sigma: 1.0, kernel size: 7\n",
      "Number of rods found: 3\n",
      "Processing connected components individually...\n",
      "Rod 1: centroid: [201.27918468 118.75478691]\n",
      "Rod 1: area: 3238\n",
      "Rod 1: number of holes: 1\n",
      "Rod 1: type: A\n",
      "--------------------------------------------------\n",
      "Rod 2: centroid: [115.29716981 113.12061995]\n",
      "Rod 2: area: 1484\n",
      "Rod 2: number of holes: 2\n",
      "Rod 2: type: B\n",
      "--------------------------------------------------\n",
      "Rod 3: centroid: [ 54.7706115  141.34682081]\n",
      "Rod 3: area: 3287\n",
      "Rod 3: number of holes: 1\n",
      "Rod 3: type: A\n",
      "--------------------------------------------------\n",
      "Processing image: TESI12.BMP\n",
      "Gaussian filter parameters --- sigma: 1.0, kernel size: 7\n",
      "Number of rods found: 3\n",
      "Processing connected components individually...\n",
      "Rod 1: centroid: [82.42389976 81.95232274]\n",
      "Rod 1: area: 3272\n",
      "Rod 1: number of holes: 1\n",
      "Rod 1: type: A\n",
      "--------------------------------------------------\n",
      "Rod 2: centroid: [128.79129233 116.51969592]\n",
      "Rod 2: area: 1447\n",
      "Rod 2: number of holes: 2\n",
      "Rod 2: type: B\n",
      "--------------------------------------------------\n",
      "Rod 3: centroid: [104.49104385 172.25046325]\n",
      "Rod 3: area: 3238\n",
      "Rod 3: number of holes: 1\n",
      "Rod 3: type: A\n",
      "--------------------------------------------------\n",
      "Processing image: TESI21.BMP\n",
      "Gaussian filter parameters --- sigma: 1.0, kernel size: 7\n",
      "Number of rods found: 2\n",
      "Processing connected components individually...\n",
      "Rod 1: centroid: [114.46910569  90.53739837]\n",
      "Rod 1: area: 2460\n",
      "Rod 1: number of holes: 2\n",
      "Rod 1: type: B\n",
      "--------------------------------------------------\n",
      "Rod 2: centroid: [153.38165454 162.30543853]\n",
      "Rod 2: area: 5222\n",
      "Rod 2: number of holes: 1\n",
      "Rod 2: type: A\n",
      "--------------------------------------------------\n",
      "Processing image: TESI31.BMP\n",
      "Gaussian filter parameters --- sigma: 1.0, kernel size: 7\n",
      "Number of rods found: 2\n",
      "Processing connected components individually...\n",
      "Rod 1: centroid: [189.57038881 142.75598544]\n",
      "Rod 1: area: 5221\n",
      "Rod 1: number of holes: 1\n",
      "Rod 1: type: A\n",
      "--------------------------------------------------\n",
      "Rod 2: centroid: [ 85.26001669 160.23622705]\n",
      "Rod 2: area: 2396\n",
      "Rod 2: number of holes: 2\n",
      "Rod 2: type: B\n",
      "--------------------------------------------------\n",
      "Processing image: TESI33.BMP\n",
      "Gaussian filter parameters --- sigma: 1.0, kernel size: 7\n",
      "Number of rods found: 2\n",
      "Processing connected components individually...\n",
      "Rod 1: centroid: [104.16227064 105.61907492]\n",
      "Rod 1: area: 5232\n",
      "Rod 1: number of holes: 1\n",
      "Rod 1: type: A\n",
      "--------------------------------------------------\n",
      "Rod 2: centroid: [154.87509638 145.81245181]\n",
      "Rod 2: area: 5188\n",
      "Rod 2: number of holes: 1\n",
      "Rod 2: type: A\n",
      "--------------------------------------------------\n"
     ]
    }
   ],
   "source": [
    "results = detect_rods(images_1, task1_names, visualize=False)"
   ]
  },
  {
   "attachments": {},
   "cell_type": "markdown",
   "metadata": {},
   "source": [
    "### Rod specific properties computation\n",
    "\n",
    "**Objectives**: find the position, find the orientation (modulo $\\pi$)\n",
    "\n",
    "1. Since each rod is recognized by a connected component (CC) we can safely say that the position of the rod with respect to the image can be expressed by the CC's centroid coordinates $<x, y>$.\n",
    "2. "
   ]
  },
  {
   "attachments": {},
   "cell_type": "markdown",
   "metadata": {},
   "source": []
  }
 ],
 "metadata": {
  "kernelspec": {
   "display_name": "cv_env",
   "language": "python",
   "name": "python3"
  },
  "language_info": {
   "codemirror_mode": {
    "name": "ipython",
    "version": 3
   },
   "file_extension": ".py",
   "mimetype": "text/x-python",
   "name": "python",
   "nbconvert_exporter": "python",
   "pygments_lexer": "ipython3",
   "version": "3.5.6"
  },
  "orig_nbformat": 4
 },
 "nbformat": 4,
 "nbformat_minor": 2
}
