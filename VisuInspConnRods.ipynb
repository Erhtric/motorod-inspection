{
 "cells": [
  {
   "attachments": {},
   "cell_type": "markdown",
   "metadata": {},
   "source": [
    "# Visual Inspection of Motorcycle Connecting Rods\n",
    "\n",
    "Students should develop a software system aimed at visual inspection of motorcycle connecting rods. The system should be able to analyse the dimensions of two different types of connecting rods to allow a vision-guided robot to pick and sort rods based on their type and dimensions. The two rod types are characterized by a different number of holes: Type A rods have one hole whilst Type B rods have two holes."
   ]
  },
  {
   "attachments": {},
   "cell_type": "markdown",
   "metadata": {},
   "source": [
    "## Libraries and Data loading"
   ]
  },
  {
   "cell_type": "code",
   "execution_count": 1,
   "metadata": {},
   "outputs": [
    {
     "data": {
      "text/plain": [
       "<Figure size 1500x1000 with 6 Axes>"
      ]
     },
     "metadata": {},
     "output_type": "display_data"
    }
   ],
   "source": [
    "%load_ext autoreload\n",
    "%autoreload 2\n",
    "import numpy as np\n",
    "import cv2\n",
    "import matplotlib.pyplot as plt\n",
    "from pathlib import Path\n",
    "\n",
    "import sys\n",
    "\n",
    "sys.path.append(\".\")\n",
    "\n",
    "data_folder = Path(\"ispezione-bielle-immagini\")\n",
    "task1_names = [\n",
    "    \"TESI00.BMP\",\n",
    "    \"TESI01.BMP\",\n",
    "    \"TESI12.BMP\",\n",
    "    \"TESI21.BMP\",\n",
    "    \"TESI31.BMP\",\n",
    "    \"TESI33.BMP\",\n",
    "]\n",
    "\n",
    "task2_names = [\n",
    "    \"TESI44.BMP\",\n",
    "    \"TESI47.BMP\",\n",
    "    \"TESI48.BMP\",\n",
    "    \"TESI49.BMP\",\n",
    "    \"TESI50.BMP\",\n",
    "    \"TESI51.BMP\",\n",
    "    \"TESI90.BMP\",\n",
    "    \"TESI92.BMP\",\n",
    "    \"TESI98.BMP\",\n",
    "]\n",
    "\n",
    "paths_1 = []\n",
    "paths_2 = []\n",
    "for _path in data_folder.rglob(\"*.BMP\"):\n",
    "    if _path.name.upper() in task1_names:\n",
    "        paths_1.append(_path)\n",
    "    elif _path.name.upper() in task2_names:\n",
    "        paths_2.append(_path)\n",
    "\n",
    "# Load the images\n",
    "images_1 = [cv2.imread(str(_path), cv2.IMREAD_GRAYSCALE) for _path in paths_1]\n",
    "images_2 = [cv2.imread(str(_path), cv2.IMREAD_GRAYSCALE) for _path in paths_2]\n",
    "\n",
    "# Print the images in a grid\n",
    "fig, axs = plt.subplots(2, 3, figsize=(15, 10))\n",
    "for i, (img, path) in enumerate(zip(images_1, paths_1)):\n",
    "    axs[i // 3, i % 3].imshow(img, cmap=\"gray\")\n",
    "    axs[i // 3, i % 3].set_title(path.name)\n",
    "    axs[i // 3, i % 3].axis(\"off\")\n",
    "plt.show()"
   ]
  },
  {
   "attachments": {},
   "cell_type": "markdown",
   "metadata": {},
   "source": [
    "## First task\n",
    "\n",
    "**Image characteristics**\n",
    "1. Images contain only connecting rods, which can be of both types and feature significantly diverse dimensions.\n",
    "2. Connecting rods have been carefully placed within the inspection area so to appear well separated in images (i.e. they do not have any contact point).\n",
    "3. Images have been taken by the backlighting technique so to render rods easily distinguishable (i.e. much darker) from background. However, for flexibility reasons the system should not\n",
    "require any change to work properly with lighting sources of different power.\n",
    "\n",
    "**Functional specifications**\n",
    "For each connecting rod appearing in the image, the vision system should provide the following information:\n",
    "1. Type of rod (A or B).\n",
    "2. Position and orientation (modulo $\\pi$).\n",
    "3. Length, width and width at the barycenter.\n",
    "4. For each hole, position of the centre and diameter size.\n",
    "\n",
    "***"
   ]
  },
  {
   "attachments": {},
   "cell_type": "markdown",
   "metadata": {},
   "source": [
    "### Rod-type Detection\n",
    "\n",
    "**Objectives**: detect the rods, detect the holes in each rod\n",
    "\n",
    "The algorithm first preprocesses the image by applying a Gaussian filter (given $\\sigma$, we set the kernel size to be equal to $\\lceil (3 \\sigma)^2 + 1 \\rceil$.) and thresholding the image to create a binary image (we exploit the OpenCV method `cv2.threshold(img, thresh, maxval, type=cv2.THRESH_BINARY_INV | cv2.THRESH_OTSU)`). It then uses the `cv2.connectedComponentsWithStats()` function to find the connected components in the binary image. Each connected component corresponds to a rod in the image.\n",
    "\n",
    "For each rod, the algorithm extracts the connected component and calculates its area, centroid, and number of holes. It then classifies the rod as either \"Type A\" (one hole) or \"Type B\" (two holes) based on the number of holes. Finally, it plots the connected component and displays the rod type.\n",
    "\n",
    "The algorithm uses the OpenCV library to perform the image processing and blob detection. Blob detection is a technique for detecting regions in an image that share common properties, such as color or texture. In this case, the algorithm uses blob detection to detect the rods in the image. The algorithm then analyzes each rod to count the number of holes and classify the rod type. \n",
    "\n",
    "The algorithm is useful for applications such as quality control in manufacturing, where it is important to detect defects in products. By detecting the number of holes in each rod, the algorithm can identify defective rods that do not meet the required specifications.\n",
    "\n"
   ]
  },
  {
   "cell_type": "code",
   "execution_count": 21,
   "metadata": {},
   "outputs": [
    {
     "name": "stdout",
     "output_type": "stream",
     "text": [
      "Gaussian filter parameters --- sigma: 0.5, kernel size: 5\n",
      "Number of rods found (CC): 3\n",
      "Processing connected components individually...\n",
      "\n",
      "Processing rod 1...\n",
      "Rod 1: area (CC): 3241\n",
      "Rod 1: number of holes: 1\n",
      "Rod 1: type: A\n",
      "Rod 1: length (MER): 169.35345458984375\n",
      "Rod 1: width (MER): 39.77633285522461\n",
      "Rod 1: mass center(s): [(198, 113)]\n",
      "Rod 1: angle (mod pi): 1.976969182254725\n",
      "Rod 1: width at mass center: 14.7648230602334\n"
     ]
    },
    {
     "data": {
      "image/png": "[encoded data removed]",
      "text/plain": [
       "<Figure size 504x504 with 1 Axes>"
      ]
     },
     "metadata": {
      "needs_background": "light"
     },
     "output_type": "display_data"
    },
    {
     "name": "stdout",
     "output_type": "stream",
     "text": [
      "--------------------------------------------------\n",
      "Processing rod 2...\n",
      "Rod 2: area (CC): 1485\n",
      "Rod 2: number of holes: 2\n",
      "Rod 2: type: B\n",
      "Rod 2: length (MER): 131.63897705078125\n",
      "Rod 2: width (MER): 26.889116287231445\n",
      "Rod 2: mass center(s): [(115, 115)]\n",
      "Rod 2: angle (mod pi): 1.4577884183408638\n",
      "Rod 2: width at mass center: 12.649110640673518\n"
     ]
    },
    {
     "data": {
      "image/png": "[encoded data removed]",
      "text/plain": [
       "<Figure size 504x504 with 1 Axes>"
      ]
     },
     "metadata": {
      "needs_background": "light"
     },
     "output_type": "display_data"
    },
    {
     "name": "stdout",
     "output_type": "stream",
     "text": [
      "--------------------------------------------------\n",
      "Processing rod 3...\n",
      "Rod 3: area (CC): 3263\n",
      "Rod 3: number of holes: 1\n",
      "Rod 3: type: A\n",
      "Rod 3: length (MER): 177.26246643066406\n",
      "Rod 3: width (MER): 37.273799896240234\n",
      "Rod 3: mass center(s): [(54, 148)]\n",
      "Rod 3: angle (mod pi): 1.5013820814180452\n",
      "Rod 3: width at mass center: 14.0\n"
     ]
    },
    {
     "data": {
      "image/png": "[encoded data removed]",
      "text/plain": [
       "<Figure size 504x504 with 1 Axes>"
      ]
     },
     "metadata": {
      "needs_background": "light"
     },
     "output_type": "display_data"
    },
    {
     "name": "stdout",
     "output_type": "stream",
     "text": [
      "--------------------------------------------------\n"
     ]
    }
   ],
   "source": [
    "from src.rod_detection import detect_rods_blob, detect_rods\n",
    "\n",
    "# Detects the rods for a single image, it outputs the various steps\n",
    "rod_info = detect_rods_blob(images_1[0])\n",
    "# print(rod_info)"
   ]
  },
  {
   "cell_type": "code",
   "execution_count": 223,
   "metadata": {},
   "outputs": [],
   "source": [
    "\n",
    "# Draw the points\n",
    "output = cv2.cvtColor(contour_img, cv2.COLOR_GRAY2RGB)\n",
    "\n",
    "cv2.drawContours(output, ext_contours, -1, (0, 255, 0), 1)\n",
    "cv2.circle(output, tuple(p_left), 5, (255, 0, 0), -1)       # red\n",
    "cv2.circle(output, tuple(p_right), 5, (0, 0, 255), -1)      # blue\n",
    "cv2.circle(output, tuple(mc), 5, (0, 255, 0), -1)           # green\n",
    "\n",
    "# Given a,b,c draw the line ax + by + c = 0\n",
    "def draw_line(a, b, c, img, color=(255, 255, 255)):\n",
    "    if b == 0:\n",
    "        cv2.line(img, (0, int(-c / a)), (img.shape[1], int(-c / a)), color, 2)\n",
    "    else:\n",
    "        cv2.line(\n",
    "            img,\n",
    "            (0, int(-c / b)),\n",
    "            (img.shape[1], int((-a * img.shape[1] - c) / b)),\n",
    "            color,\n",
    "            2,\n",
    "        )\n",
    "\n",
    "draw_line(a, b, c, output, (255, 0, 0))"
   ]
  },
  {
   "attachments": {},
   "cell_type": "markdown",
   "metadata": {},
   "source": [
    "### Rod specific properties computation\n",
    "\n",
    "**Objectives**: find the position, find the orientation (modulo $\\pi$)\n",
    "\n",
    "1. Since each rod is recognized by a connected component (CC) we can safely say that the position of the rod with respect to the image can be expressed by the CC's centroid coordinates $<x, y>$.\n",
    "2. "
   ]
  },
  {
   "attachments": {},
   "cell_type": "markdown",
   "metadata": {},
   "source": []
  }
 ],
 "metadata": {
  "kernelspec": {
   "display_name": "cv_env",
   "language": "python",
   "name": "python3"
  },
  "language_info": {
   "codemirror_mode": {
    "name": "ipython",
    "version": 3
   },
   "file_extension": ".py",
   "mimetype": "text/x-python",
   "name": "python",
   "nbconvert_exporter": "python",
   "pygments_lexer": "ipython3",
   "version": "3.5.6"
  },
  "orig_nbformat": 4
 },
 "nbformat": 4,
 "nbformat_minor": 2
}
